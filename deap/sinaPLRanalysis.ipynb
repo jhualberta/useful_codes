{
 "cells": [
  {
   "cell_type": "code",
   "execution_count": 3,
   "id": "f94b65c0",
   "metadata": {},
   "outputs": [
    {
     "name": "stdout",
     "output_type": "stream",
     "text": [
      "Welcome to JupyROOT 6.24/02\n"
     ]
    }
   ],
   "source": [
    "from ROOT import TFile, TH1D, TH2D, THStack, TCanvas, TLegend, gStyle\n",
    "from maxpatch_utils import first_year_dataset, three_year_dataset\n",
    "import pandas as pd\n",
    "import numpy as np\n",
    "import pickle\n",
    "import yaml\n",
    "import glob\n",
    "import json\n",
    "import os\n",
    "\n",
    "gStyle.SetOptStat(0)"
   ]
  },
  {
   "cell_type": "markdown",
   "id": "83a0f97d",
   "metadata": {},
   "source": [
    " \tColumn\tUnnamed: 0\tBottomRingCharge\tClippedV1720Count\tClippedV1740Count\tFprompt\tLL_ar40PDF_MBL_qPE\tLL_ar40PDF_TF2_qPE\tLL_ar40_2Min_MBL_qPE\tLL_ar40_2Min_TF2_qPE\tLL_ar40_Min_MBL_qPE\tLL_ar40_Min_TF2_qPE\tLL_ar40_all_MBL_qPE\tLL_ar40_all_TF2_qPE\tLL_pmtsPDF_PMTs_qPE\tLL_pmtsPDF_gaps_qPE\tLL_surfPDF_MBL_qPE\tLL_surfPDF_TF2_qPE\tMC_KE\tMaxFpromptFrac\tMaxFpromptShift\tNLL_tag_MBL_qPE\tNLL_tag_TF2_qPE\tNPE\tNeckVetoN\tPMTID0\tPMTID1\tPMTID2\tPMTID3\tPMTID4\tPMTID5\tPulseIndexFirstGAr\tStrip1condition\tStrip2condition\tStrip3condition\tT0\tTopRingCharge\tTruthR\tTruthRho\tTruthX\tTruthY\tTruthZ\tdistance1\tdistance2\tdistance3\tdistance4\tdistance5\tdmsa\teventID\tflashfraction\tflashllratio\tfmaxnsc\tfmaxpe\tfraction1\tfraction2\tfraction3\tfraction4\tfraction5\tgof_ar40PDF_MBL_qPE\tgof_ar40PDF_TF2_qPE\tgof_pmtsPDF_PMTs_qPE\tgof_pmtsPDF_gaps_qPE\tgof_surfPDF_MBL_qPE\tgof_surfPDF_TF2_qPE\tllneck4\tllneutronflash\tmblikelihoodKS\tmblikelihoodKuiper\tmblikelihoodR\tmblikelihoodRho\tmblikelihoodX\tmblikelihoodY\tmblikelihoodZ\tnSCBayes\tnhit\tnpromptrms\tnt7030\tnt9010\tpmt_dof\tpromptrms\tpulseindexfirstgar\tqPE\trCutConsistancy\troitop05\troitop30\trprompt60Bayes\trunID\tsample_name\tscintillationlikelihood\tscintillationlikelihood16ns\tslchargedof\tslchargegof\tsldof\tsldof16ns\tslfprompt\tslqpe\tt7030\tt9010\ttimefit2R\ttimefit2Rho\ttimefit2X\ttimefit2Y\ttimefit2Z\ttrigger_count\tzCutConsistancy\n",
    "    "
   ]
  },
  {
   "cell_type": "code",
   "execution_count": 3,
   "id": "b6bfe010",
   "metadata": {},
   "outputs": [],
   "source": [
    "import matplotlib.pyplot as plt\n",
    "import matplotlib as mpl\n",
    "\n",
    "plt.rcParams[\"font.weight\"] = \"bold\"\n",
    "plt.rcParams[\"axes.labelweight\"] = \"bold\"\n",
    "mpl.rcParams['agg.path.chunksize'] = 10000\n",
    "mpl.rcParams.update({'font.size': 14})\n",
    "plt.rcParams[\"figure.titleweight\"] = \"bold\"\n",
    "plt.rcParams[\"figure.titlesize\"] = 14\n",
    "mpl.rcParams['figure.facecolor'] = 'white'"
   ]
  },
  {
   "cell_type": "code",
   "execution_count": 8,
   "id": "866ef57f",
   "metadata": {},
   "outputs": [
    {
     "name": "stderr",
     "output_type": "stream",
     "text": [
      "Warning in <TCanvas::Constructor>: Deleting canvas with same name: Canvas\n"
     ]
    }
   ],
   "source": [
    "### for DCC cuts\n",
    "usecols = ['sample_name', 'runID', 'eventID','nSCBayes', 'rprompt60Bayes', 'mblikelihoodR', 'mblikelihoodZ', 'fmaxpe',\n",
    "'zCutConsistancy', 'rCutConsistancy', 'NeckVetoN', 'TopRingCharge', 'BottomRingCharge', 'PulseIndexFirstGAr', 'roitop05', 'roitop30',\n",
    "'NLL_tag_TF2_qPE', 'NLL_tag_MBL_qPE',\n",
    "'LL_ar40_Min_MBL_qPE', 'LL_ar40_Min_TF2_qPE',\n",
    "'distance1', 'fraction1',\n",
    "'distance2', 'fraction2',\n",
    "'distance3', 'fraction3',\n",
    "'distance4', 'fraction4',\n",
    "'distance5', 'fraction5'\n",
    "# 'LL_ar40PDF_TF2_qPE_700', 'LL_ar40PDF_TF2_qPE_750'\n",
    "]\n",
    "\n",
    "roiContF = TFile(\"savePLRroi.root\",\"READ\")\n",
    "roiCut30 = roiContF.Get(\"roi_top30_gr\")\n",
    "roiCut05 = roiContF.Get(\"roi_top05_gr\")\n",
    "roiCutPlr = roiContF.Get(\"roi_plr_gr\")\n",
    "roiContF.Close()\n",
    "\n",
    "roiCut30.SetLineColor(1)\n",
    "roiCut05.SetLineColor(2)\n",
    "roiCutPlr.SetLineColor(3)\n",
    "Canvas = TCanvas (\"Canvas\", \"Canvas\", 800, 600);  \n",
    "#roiCutPlr.Draw()\n",
    "#Canvas.Draw()"
   ]
  },
  {
   "cell_type": "code",
   "execution_count": 1,
   "id": "a0068e90",
   "metadata": {},
   "outputs": [],
   "source": [
    "nll_cut_val = 2 ## sina: for STR cuts initial cut flow\n",
    "def cutflow(sample_data, MBLR):\n",
    "\tsample_data = sample_data[sample_data['mblikelihoodR']<MBLR]\n",
    "\tsample_data = sample_data[sample_data['mblikelihoodZ']<550]\n",
    "\n",
    "\tsample_data = sample_data[sample_data['fmaxpe']<0.4]\n",
    "\tsample_data = sample_data[sample_data['NeckVetoN']==0]\n",
    "\n",
    "\tsample_data = sample_data[sample_data['TopRingCharge']<0.04]\n",
    "\tsample_data = sample_data[sample_data['BottomRingCharge']<0.1]\n",
    "\t# sample_data = sample_data[sample_data['PulseIndexFirstGAr']>2]\n",
    "\n",
    "\t# sample_data = sample_data[sample_data['zCutConsistancy']==1]\n",
    "\tsample_data = sample_data[sample_data['rCutConsistancy']==1]\n",
    "\n",
    "\t# sample_data = sample_data[sample_data['nSCBayes']<200]\n",
    "\tsample_data = sample_data[sample_data['roitop05']==1 ]\n",
    "\t# sample_data = sample_data[sample_data['Strip2condition']==1]\n",
    "\tsample_data = get_double_cluster_cut(sample_data) ## Sina: cut flow contains DCC!\n",
    "\t\n",
    "\t# sample_data = sample_data[sample_data['rprompt60Bayes']<0.75 ]\n",
    "\t# sample_data = sample_data[sample_data['roitop30']==1]\n",
    "\n",
    "\treturn sample_data"
   ]
  },
  {
   "cell_type": "code",
   "execution_count": 2,
   "id": "8a7484fd",
   "metadata": {},
   "outputs": [],
   "source": [
    "def get_double_cluster_cut(sample_data, remove=True):\n",
    "\tif len(sample_data)==0:\n",
    "\t\treturn sample_data\n",
    "\tcut1 = (sample_data.fmaxpe>0.07) & (sample_data.distance1>600) & (sample_data.fraction1>30)\n",
    "\tcut2 = (sample_data.fmaxpe>0.07) & (sample_data.distance2>600) & (sample_data.fraction2>30)\n",
    "\tcut3 = (sample_data.fmaxpe>0.07) & (sample_data.distance3>600) & (sample_data.fraction3>30)\n",
    "\tcut4 = (sample_data.fmaxpe>0.07) & (sample_data.distance4>600) & (sample_data.fraction4>30)\n",
    "\tcut5 = (sample_data.fmaxpe>0.07) & (sample_data.distance5>600) & (sample_data.fraction5>30)\n",
    "\tdouble_cut = cut1+cut2+cut3+cut4+cut5\n",
    "\t# if remove is set to false, it will return the events that are removed by this cut\n",
    "\tif remove:\n",
    "\t\tdouble_cut = [not item for item in double_cut]\n",
    "\tsample_data2 = sample_data[double_cut]\n",
    "\t# print(len(sample_data), len(sample_data2))\n",
    "\n",
    "\treturn sample_data2"
   ]
  },
  {
   "cell_type": "code",
   "execution_count": null,
   "id": "0f0bc267",
   "metadata": {},
   "outputs": [],
   "source": []
  },
  {
   "cell_type": "code",
   "execution_count": null,
   "id": "5666bc75",
   "metadata": {},
   "outputs": [],
   "source": []
  },
  {
   "cell_type": "code",
   "execution_count": null,
   "id": "3f725312",
   "metadata": {},
   "outputs": [],
   "source": []
  },
  {
   "cell_type": "code",
   "execution_count": null,
   "id": "64db2021",
   "metadata": {},
   "outputs": [],
   "source": []
  },
  {
   "cell_type": "code",
   "execution_count": null,
   "id": "df400a53",
   "metadata": {},
   "outputs": [],
   "source": []
  },
  {
   "cell_type": "code",
   "execution_count": null,
   "id": "40da662b",
   "metadata": {},
   "outputs": [],
   "source": []
  },
  {
   "cell_type": "code",
   "execution_count": null,
   "id": "ba1bbd92",
   "metadata": {},
   "outputs": [],
   "source": []
  },
  {
   "cell_type": "code",
   "execution_count": null,
   "id": "9e17b1c9",
   "metadata": {},
   "outputs": [],
   "source": []
  },
  {
   "cell_type": "code",
   "execution_count": null,
   "id": "573455f7",
   "metadata": {},
   "outputs": [],
   "source": []
  }
 ],
 "metadata": {
  "kernelspec": {
   "display_name": "Python 3 (ipykernel)",
   "language": "python",
   "name": "python3"
  },
  "language_info": {
   "codemirror_mode": {
    "name": "ipython",
    "version": 3
   },
   "file_extension": ".py",
   "mimetype": "text/x-python",
   "name": "python",
   "nbconvert_exporter": "python",
   "pygments_lexer": "ipython3",
   "version": "3.8.10"
  }
 },
 "nbformat": 4,
 "nbformat_minor": 5
}
